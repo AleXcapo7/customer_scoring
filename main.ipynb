{
 "cells": [
  {
   "cell_type": "markdown",
   "id": "dd01c62b",
   "metadata": {},
   "source": [
    "# Encoding variabili categoriali "
   ]
  },
  {
   "cell_type": "code",
   "execution_count": null,
   "id": "38e99c2c",
   "metadata": {},
   "outputs": [],
   "source": []
  }
 ],
 "metadata": {
  "language_info": {
   "name": "python"
  }
 },
 "nbformat": 4,
 "nbformat_minor": 5
}
